{
 "cells": [
  {
   "cell_type": "markdown",
   "id": "minimal-compatibility",
   "metadata": {},
   "source": [
    "# FAQ Scraper API Walkthrough"
   ]
  },
  {
   "cell_type": "markdown",
   "id": "acoustic-accommodation",
   "metadata": {},
   "source": [
    "### Setup"
   ]
  },
  {
   "cell_type": "markdown",
   "id": "worldwide-witness",
   "metadata": {},
   "source": [
    "This notebook assumes you have portforwarding set up on your local system and user access account has forward kube permissions. To setup portforwarding, clone this repo https://github.com/chatatechnologies/devops to your local system. "
   ]
  },
  {
   "cell_type": "markdown",
   "id": "coordinated-whole",
   "metadata": {},
   "source": [
    "1) In a terminal navigate to the local directory containing the cloned devops repo"
   ]
  },
  {
   "cell_type": "markdown",
   "id": "entertaining-subscription",
   "metadata": {},
   "source": [
    "2) run `forward_kube`"
   ]
  },
  {
   "cell_type": "markdown",
   "id": "double-pierce",
   "metadata": {},
   "source": [
    "3) Select option `4`, cass-staging"
   ]
  },
  {
   "cell_type": "markdown",
   "id": "applicable-iraqi",
   "metadata": {},
   "source": [
    "A list of all kube services will scroll. You should see `faq-parser-app avaiable on localhost 8115`.\n",
    "Keep this terminal open while interacting with the API. "
   ]
  },
  {
   "cell_type": "markdown",
   "id": "structural-consideration",
   "metadata": {},
   "source": [
    "### Test Run"
   ]
  },
  {
   "cell_type": "code",
   "execution_count": 4,
   "id": "split-event",
   "metadata": {},
   "outputs": [],
   "source": [
    "import requests\n",
    "import json"
   ]
  },
  {
   "cell_type": "code",
   "execution_count": 5,
   "id": "pending-reliance",
   "metadata": {},
   "outputs": [],
   "source": [
    "BASE = 'http://127.0.0.1:8115/'             #Localhost:forwarded_port\n",
    "url = 'https://chata.ai/autoql/faq/'        #url to Scrape\n",
    "request_data = {'url': url}"
   ]
  },
  {
   "cell_type": "code",
   "execution_count": null,
   "id": "obvious-exception",
   "metadata": {},
   "outputs": [],
   "source": [
    "response = requests.put(BASE + 'faq_parser', request_data)\n",
    "print(response.json())"
   ]
  },
  {
   "cell_type": "markdown",
   "id": "resident-illinois",
   "metadata": {},
   "source": [
    "### Saving To GCP Bucket"
   ]
  },
  {
   "cell_type": "markdown",
   "id": "solar-finance",
   "metadata": {},
   "source": [
    "To save this FAQ (and its associated metadata) to a subdirectory inside nlp_resources:"
   ]
  },
  {
   "cell_type": "code",
   "execution_count": 6,
   "id": "necessary-single",
   "metadata": {},
   "outputs": [],
   "source": [
    "\n",
    "# Little Function to help with readability\n",
    "import pprint\n",
    "from colorama import Fore\n",
    "from colorama import Style\n",
    "\n",
    "def fabulous(response_json):\n",
    "    response_json = json.loads(response_json)\n",
    "    if 'status' in response_json.keys():\n",
    "        print(f\"{Fore.RED}Status: {response_json['status']}{Style.RESET_ALL}\", end='\\n')\n",
    "    if 'data' in response_json.keys():\n",
    "        if response_json['data']:\n",
    "            for qa in response_json['data']:\n",
    "                print(f'{Fore.GREEN}[{int(qa)+1}]{Style.RESET_ALL}')\n",
    "                print(f'{Fore.MAGENTA}Question:{Style.RESET_ALL}')\n",
    "                pprint.pprint(f'{response_json[\"data\"][qa][\"question\"]}')\n",
    "                print(f'{Fore.CYAN}Answer:{Style.RESET_ALL}')\n",
    "                pprint.pprint(f'{response_json[\"data\"][qa][\"answer\"]}')\n",
    "        if 'save_dir' in response_json.keys():\n",
    "            if response_json['save_dir']:\n",
    "                print(f\"{Fore.RED}Save Location: {response_json['save_dir']}{Style.RESET_ALL}\", end='\\n')\n",
    "    else:\n",
    "        print(f'{Fore.RED}Parser found nothing to parse{Style.RESET_ALL}')"
   ]
  },
  {
   "cell_type": "code",
   "execution_count": 7,
   "id": "thirty-conclusion",
   "metadata": {},
   "outputs": [],
   "source": [
    "BASE = 'http://127.0.0.1:8115/'   \n",
    "url = 'https://www.tamu.edu/about/faq.html'\n",
    "bucket_dir = 'knowledge/test'      #this will save the data to nlp_resources/knowledge/test\n",
    "request_data = {'url': url, 'save':True, 'bucket_dir': bucket_dir }"
   ]
  },
  {
   "cell_type": "code",
   "execution_count": null,
   "id": "minus-footwear",
   "metadata": {},
   "outputs": [],
   "source": [
    "response = requests.put(BASE + 'faq_parser', request_data)\n",
    "fabulous(response.json())"
   ]
  }
 ],
 "metadata": {
  "kernelspec": {
   "display_name": "faq_parser",
   "language": "python",
   "name": "faq_parser"
  },
  "language_info": {
   "codemirror_mode": {
    "name": "ipython",
    "version": 3
   },
   "file_extension": ".py",
   "mimetype": "text/x-python",
   "name": "python",
   "nbconvert_exporter": "python",
   "pygments_lexer": "ipython3",
   "version": "3.9.1"
  }
 },
 "nbformat": 4,
 "nbformat_minor": 5
}
