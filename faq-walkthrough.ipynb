{
 "cells": [
  {
   "cell_type": "markdown",
   "id": "electric-coverage",
   "metadata": {},
   "source": [
    "# FAQ Scraper API Walk Through"
   ]
  },
  {
   "cell_type": "markdown",
   "id": "vietnamese-navigation",
   "metadata": {},
   "source": [
    "### Setup"
   ]
  },
  {
   "cell_type": "markdown",
   "id": "indie-garage",
   "metadata": {},
   "source": [
    "This notebook assumes you have portforwarding set up on your local system and user access account has forward kube permissions. To setup portforwarding, clone this repo https://github.com/chatatechnologies/devops to your local system. "
   ]
  },
  {
   "cell_type": "markdown",
   "id": "iraqi-killing",
   "metadata": {},
   "source": [
    "1) Using the terminal, navigate to the local directory containing the cloned devops repo"
   ]
  },
  {
   "cell_type": "markdown",
   "id": "brave-effects",
   "metadata": {},
   "source": [
    "2) `cd bin`"
   ]
  },
  {
   "cell_type": "markdown",
   "id": "fluid-truth",
   "metadata": {},
   "source": [
    "3) `forward_kube`"
   ]
  },
  {
   "cell_type": "markdown",
   "id": "respiratory-aurora",
   "metadata": {},
   "source": [
    "4) Select option `4`, cass-staging"
   ]
  },
  {
   "cell_type": "markdown",
   "id": "latin-entrance",
   "metadata": {},
   "source": [
    "A list of all kube services will scroll. Eventually you should see `faq-parser-app avaiable on localhost 8115`.\n",
    "Keep this terminal open while interacting with the API. "
   ]
  },
  {
   "cell_type": "markdown",
   "id": "small-latex",
   "metadata": {},
   "source": [
    "### Test Run"
   ]
  },
  {
   "cell_type": "code",
   "execution_count": 5,
   "id": "ideal-hospital",
   "metadata": {},
   "outputs": [],
   "source": [
    "import requests\n",
    "import json"
   ]
  },
  {
   "cell_type": "markdown",
   "id": "stock-present",
   "metadata": {},
   "source": [
    "##### URL to Scrape"
   ]
  },
  {
   "cell_type": "code",
   "execution_count": null,
   "id": "legendary-strap",
   "metadata": {},
   "outputs": [],
   "source": [
    "url = 'https://www.tamu.edu/about/faq.html'"
   ]
  },
  {
   "cell_type": "code",
   "execution_count": null,
   "id": "pursuant-liver",
   "metadata": {},
   "outputs": [],
   "source": [
    "BASE = 'http://127.0.0.1:8115/' #Localhost:forwarded_port       \n",
    "request_data = {'url': url}\n",
    "response = requests.put(BASE + 'faq_parser', request_data)\n",
    "print(response.json())"
   ]
  },
  {
   "cell_type": "markdown",
   "id": "linear-twins",
   "metadata": {},
   "source": [
    "### Saving To GCP Bucket"
   ]
  },
  {
   "cell_type": "markdown",
   "id": "meaningful-monday",
   "metadata": {},
   "source": [
    "To save this FAQ (and its associated metadata) to a subdirectory inside nlp_resources:"
   ]
  },
  {
   "cell_type": "code",
   "execution_count": 9,
   "id": "cleared-republican",
   "metadata": {},
   "outputs": [],
   "source": [
    "# Little Function to help with readability\n",
    "import pprint\n",
    "from colorama import Fore\n",
    "from colorama import Style\n",
    "\n",
    "def fabulous(response_json):\n",
    "    response_json = json.loads(response_json)\n",
    "    if 'status' in response_json.keys():\n",
    "        print(f\"{Fore.RED}Status: {response_json['status']}{Style.RESET_ALL}\", end='\\n')\n",
    "    if 'data' in response_json.keys():\n",
    "        if response_json['data']:\n",
    "            for qa in response_json['data']:\n",
    "                print(f'{Fore.GREEN}[{int(qa)+1}]{Style.RESET_ALL}')\n",
    "                print(f'{Fore.MAGENTA}Question:{Style.RESET_ALL}')\n",
    "                pprint.pprint(f'{response_json[\"data\"][qa][\"question\"]}')\n",
    "                print(f'{Fore.CYAN}Answer:{Style.RESET_ALL}')\n",
    "                pprint.pprint(f'{response_json[\"data\"][qa][\"answer\"]}')\n",
    "        if 'save_dir' in response_json.keys():\n",
    "            if response_json['save_dir']:\n",
    "                print(f\"{Fore.RED}Save Location: {response_json['save_dir']}{Style.RESET_ALL}\", end='\\n')\n",
    "    else:\n",
    "        print(f'{Fore.RED}Parser found nothing to parse{Style.RESET_ALL}')"
   ]
  },
  {
   "cell_type": "markdown",
   "id": "large-savannah",
   "metadata": {},
   "source": [
    "##### URL to Scrape & Bucket subdirectory"
   ]
  },
  {
   "cell_type": "code",
   "execution_count": 10,
   "id": "formal-senior",
   "metadata": {},
   "outputs": [],
   "source": [
    "url = 'https://www.tamu.edu/about/faq.html'\n",
    "bucket_dir = 'knowledge/test'"
   ]
  },
  {
   "cell_type": "code",
   "execution_count": null,
   "id": "disturbed-birthday",
   "metadata": {},
   "outputs": [],
   "source": [
    "BASE = 'http://127.0.0.1:8115/'\n",
    "request_data = {'url': url, 'save':True, 'bucket_dir': bucket_dir}\n",
    "response = requests.put(BASE + 'faq_parser', request_data)\n",
    "fabulous(response.json())"
   ]
  }
 ],
 "metadata": {
  "kernelspec": {
   "display_name": "faq_parser",
   "language": "python",
   "name": "faq_parser"
  },
  "language_info": {
   "codemirror_mode": {
    "name": "ipython",
    "version": 3
   },
   "file_extension": ".py",
   "mimetype": "text/x-python",
   "name": "python",
   "nbconvert_exporter": "python",
   "pygments_lexer": "ipython3",
   "version": "3.9.1"
  }
 },
 "nbformat": 4,
 "nbformat_minor": 5
}
